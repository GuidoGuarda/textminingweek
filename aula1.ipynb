{
 "cells": [
  {
   "cell_type": "markdown",
   "metadata": {},
   "source": [
    "## Inteligência Artificial (guarda-chuva)\n",
    "\n",
    "- Imitação da cpacidade humana\n",
    "- Ajuda o ser humano na produtividade\n",
    "- Imitar a inteligêmcia humana e seus sentidos\n",
    "- Reconhecer padrões e resolver problemas\n"
   ]
  },
  {
   "cell_type": "markdown",
   "metadata": {},
   "source": [
    "# Machine Learning\n",
    "\n",
    "- Supervisionado: dados rotulados\n",
    "\n",
    "- Não supervisionado: sem dados rotulados\n",
    "\n",
    "# Deep Learning\n",
    "\n",
    "A diferença é que possui redes neurais\n",
    "\n",
    "# O que você pode fazer:\n",
    "\n",
    "1 - Transformar texto em aúdio\n",
    "\n",
    "2 - Identificar e comparar imagens e objetos(ver)\n",
    "\n",
    "3 - Aplicar a física(raio cósmico): modelos que encapsulam funções - Velocidade de processamento e entendimento das funções.\n",
    "\n",
    "4 - Engenharia civil encapsula funções\n",
    "\n",
    "5 - Midias sociais - estão te ouvindo para oferecer um produto.\n",
    "\n",
    "6 - Variância - Flexibilidade\n",
    "\n",
    "    Policiamento: viés: restrições\n",
    "\n",
    "    Underfitting\n",
    "\n",
    "    overfitting\n",
    "\n",
    "7 - Jogos\n",
    "\n",
    "    - Supervisionado\n",
    "\n",
    "    - Não Supervisionado\n",
    "\n",
    "    - Por reforço\n",
    "    \n",
    "    -   \n",
    "\n"
   ]
  },
  {
   "cell_type": "markdown",
   "metadata": {},
   "source": [
    "## O que é possível fazer com a IA\n",
    "\n",
    "- Inferir espécie de uma flor a partir das medidas desta;\n",
    "\n",
    "- Dataset - Íris (código genéticos e fenótipos)\n",
    "\n",
    "- Transformar um digito escrito a amão em texto (string)\n",
    "\n",
    "- Reconmenda filmes - base dataset de avaliações\n",
    "\n",
    "- Análise de sentimentos\n",
    "\n",
    "- Detectar objetos\n",
    "\n",
    "- Treinar um táxi autônomo\n"
   ]
  },
  {
   "cell_type": "markdown",
   "metadata": {},
   "source": [
    "## Métricas\n",
    "\n",
    "- è uma régua para medir o desempenho dos nossos modelos\n",
    "\n",
    "- Função de custo e otimizadores(discerne se a predição é boa ou ruim) O erro do quadrático médio"
   ]
  },
  {
   "cell_type": "markdown",
   "metadata": {},
   "source": [
    "# Terminologias\n",
    "\n",
    "- Ciência de Dados: Campo acadêmico interdisciplinar para sugestões de insights e tomada de decisão.\n",
    "\n",
    "  -  Underfitting - aprendeu demais\n",
    "\n",
    "   -  overfitting - aprendeu de menos\n",
    "\n",
    "   - viés; restrições impostas na função\n",
    "\n",
    "   - Variância - flexibilidade da técnica em se adaptar os dados"
   ]
  },
  {
   "cell_type": "code",
   "execution_count": 1,
   "metadata": {},
   "outputs": [],
   "source": [
    "url = '<script src=\"https://gist.github.com/netj/8836201.js\"></script>'"
   ]
  }
 ],
 "metadata": {
  "kernelspec": {
   "display_name": ".venv",
   "language": "python",
   "name": "python3"
  },
  "language_info": {
   "codemirror_mode": {
    "name": "ipython",
    "version": 3
   },
   "file_extension": ".py",
   "mimetype": "text/x-python",
   "name": "python",
   "nbconvert_exporter": "python",
   "pygments_lexer": "ipython3",
   "version": "3.12.5"
  }
 },
 "nbformat": 4,
 "nbformat_minor": 2
}
