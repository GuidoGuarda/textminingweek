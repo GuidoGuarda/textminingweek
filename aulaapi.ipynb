{
  "nbformat": 4,
  "nbformat_minor": 0,
  "metadata": {
    "colab": {
      "provenance": [],
      "toc_visible": true,
      "authorship_tag": "ABX9TyPAGIKGDhAnENI9jyvxj5e/",
      "include_colab_link": true
    },
    "kernelspec": {
      "name": "python3",
      "display_name": "Python 3"
    },
    "language_info": {
      "name": "python"
    }
  },
  "cells": [
    {
      "cell_type": "markdown",
      "metadata": {
        "id": "view-in-github",
        "colab_type": "text"
      },
      "source": [
        "<a href=\"https://colab.research.google.com/github/GuidoGuarda/textminingweek/blob/main/aulaapi.ipynb\" target=\"_parent\"><img src=\"https://colab.research.google.com/assets/colab-badge.svg\" alt=\"Open In Colab\"/></a>"
      ]
    },
    {
      "cell_type": "markdown",
      "source": [
        "# Aula API´s\n"
      ],
      "metadata": {
        "id": "70AUL7YwPXQK"
      }
    },
    {
      "cell_type": "markdown",
      "source": [
        "# API POKEMON\n"
      ],
      "metadata": {
        "id": "BpHYvx1sXrig"
      }
    },
    {
      "cell_type": "code",
      "source": [
        "import requests\n",
        "\n",
        "url = \"https://pokeapi.co/api/v2/pokemon/ditto\"\n",
        "\n",
        "response = requests.get(url)\n",
        "print(response)\n",
        "\n",
        "if response.status_code == 200:\n",
        "    data = response.json()\n",
        "\n",
        "    print(f\"Nome: {data['name']}\")\n",
        "    print(f\"ID: {data['id']}\")\n",
        "    print(f\"Altura: {data['height']}\")\n",
        "    print(f\"Peso: {data['weight']}\")\n",
        "\n",
        "    print(\"Tipos:\")\n",
        "    for tipo in data['types']:\n",
        "        print(f\"- {tipo['type']['name']}\")\n",
        "else:\n",
        "    print(f\"Erro {response.status_code}: Não foi possível obter os dados\")\n",
        "\n",
        "\n"
      ],
      "metadata": {
        "colab": {
          "base_uri": "https://localhost:8080/"
        },
        "id": "GvZ35BriU4X0",
        "outputId": "cf4040f2-2f59-4ef7-e7fe-ec1d0e5d9b48"
      },
      "execution_count": 22,
      "outputs": [
        {
          "output_type": "stream",
          "name": "stdout",
          "text": [
            "<Response [200]>\n",
            "Nome: ditto\n",
            "ID: 132\n",
            "Altura: 3\n",
            "Peso: 40\n",
            "Tipos:\n",
            "- normal\n"
          ]
        }
      ]
    },
    {
      "cell_type": "markdown",
      "source": [
        "# API THE DOG\n"
      ],
      "metadata": {
        "id": "BZoxmBn1Xp3g"
      }
    },
    {
      "cell_type": "code",
      "source": [
        "import requests\n",
        "\n",
        "api_key = 'live_fSQXLhiKoZiFxjAmrP9piZ8vbbvaS8CfclVEkjJTWlWI0JXtVI5fbDyGqrwstAmw'\n",
        "\n",
        "url = f\"https://api.thedogapi.com/v1/images/search?api_key={api_key}\"\n",
        "response = requests.get(url)\n",
        "print(response.text)\n",
        "#tratando dados\n",
        "data = response.json()\n",
        "print(data[0]['url'])\n"
      ],
      "metadata": {
        "colab": {
          "base_uri": "https://localhost:8080/"
        },
        "id": "59MTYNFhYLn8",
        "outputId": "505cb6c5-e91d-46c9-a88d-9ec855e34bb3"
      },
      "execution_count": 23,
      "outputs": [
        {
          "output_type": "stream",
          "name": "stdout",
          "text": [
            "[{\"breeds\":[{\"weight\":{\"imperial\":\"20 - 30\",\"metric\":\"9 - 14\"},\"height\":{\"imperial\":\"14 - 16\",\"metric\":\"36 - 41\"},\"id\":145,\"name\":\"Kooikerhondje\",\"bred_for\":\"Luring ducks into traps - \\\"tolling\\\"\",\"breed_group\":\"Sporting\",\"life_span\":\"12 - 15 years\",\"temperament\":\"Benevolent, Agile, Alert, Intelligent, Active, Territorial\",\"reference_image_id\":\"kOMy84GQE\"}],\"id\":\"kOMy84GQE\",\"url\":\"https://cdn2.thedogapi.com/images/kOMy84GQE.jpg\",\"width\":1080,\"height\":1080}]\n",
            "https://cdn2.thedogapi.com/images/kOMy84GQE.jpg\n"
          ]
        }
      ]
    },
    {
      "cell_type": "markdown",
      "source": [
        "# API THE CAT"
      ],
      "metadata": {
        "id": "5UDwp_NPba3y"
      }
    },
    {
      "cell_type": "code",
      "source": [],
      "metadata": {
        "id": "P2RhrTFXcidx"
      },
      "execution_count": 23,
      "outputs": []
    },
    {
      "cell_type": "code",
      "source": [
        "import requests\n",
        "\n",
        "api_key = 'live_fSQXLhiKoZiFxjAmrP9piZ8vbbvaS8CfclVEkjJTWlWI0JXtVI5fbDyGqrwstAmw'\n",
        "\n",
        "url = f\"https://api.thecatapi.com/v1/images/search?api_key={api_key}\"\n",
        "response = requests.get(url)\n",
        "print(response.text)\n",
        "#tratando dados\n",
        "data = response.json()\n",
        "print(data[0]['url'])\n"
      ],
      "metadata": {
        "colab": {
          "base_uri": "https://localhost:8080/"
        },
        "outputId": "9ca5fa13-db31-4a9a-f189-81f28f86a4b4",
        "id": "VhnT9qldci0g"
      },
      "execution_count": 24,
      "outputs": [
        {
          "output_type": "stream",
          "name": "stdout",
          "text": [
            "[{\"id\":\"2bm\",\"url\":\"https://cdn2.thecatapi.com/images/2bm.jpg\",\"width\":292,\"height\":500}]\n",
            "https://cdn2.thecatapi.com/images/2bm.jpg\n"
          ]
        }
      ]
    },
    {
      "cell_type": "markdown",
      "source": [
        "# API NASA"
      ],
      "metadata": {
        "id": "v_hgoAxflO1F"
      }
    },
    {
      "cell_type": "code",
      "source": [
        "from IPython.display import Image, display\n",
        "import requests\n",
        "#Chave da API\n",
        "api_key = \"93XcsvH8dQRboSblD1V7Qcs1uuyMciUcSTVhtcM5\"\n",
        "#Rota da API\n",
        "endpoint = \"/planetary/apod\"\n",
        "#Deifinindo URL\n",
        "url = f\"https://api.nasa.gov{endpoint}?api_key={api_key}\"\n",
        "\n",
        "response = requests.get(url).json()\n",
        "\n",
        "imagem_url = response['url']\n",
        "display(Image(url=imagem_url))\n",
        "\n",
        "#tratando dados\n",
        "print(f\"URL da imagem: {response['url']}\")\n",
        "print(f\"Título da imagem: {response['title']}\")\n",
        "print(f\"Descrição da imagem: {response['explanation']}\")\n"
      ],
      "metadata": {
        "colab": {
          "base_uri": "https://localhost:8080/",
          "height": 977
        },
        "id": "Vds8l985mcKw",
        "outputId": "c7c54160-1255-43ae-e2ba-66717b78b3d5"
      },
      "execution_count": 25,
      "outputs": [
        {
          "output_type": "display_data",
          "data": {
            "text/html": [
              "<img src=\"https://apod.nasa.gov/apod/image/2409/NGC1333Webb1024.jpg\"/>"
            ],
            "text/plain": [
              "<IPython.core.display.Image object>"
            ]
          },
          "metadata": {}
        },
        {
          "output_type": "stream",
          "name": "stdout",
          "text": [
            "URL da imagem: https://apod.nasa.gov/apod/image/2409/NGC1333Webb1024.jpg\n",
            "Título da imagem: Young Star Cluster NGC 1333\n",
            "Descrição da imagem: This spectacular mosaic of images from the James Webb Space Telescope peers into the heart of young star cluster NGC 1333. A mere 1,000 light-years distant toward the heroic constellation Perseus, the nearby star cluster lies at the edge of the large Perseus molecular cloud. Part of Webb's deep exploration of the region to identify low mass brown dwarf stars and free floating planets, the space telescope's combined field of view spans nearly 2 light-years across the dusty cluster's turbulent stellar nursery. In fact, NGC 1333 is known to harbor stars less than a million years old, though most are hidden from optical telescopes by the pervasive stardust. The chaotic environment may be similar to one in which our own Sun formed over 4.5 billion years ago.\n"
          ]
        }
      ]
    },
    {
      "cell_type": "markdown",
      "source": [
        "# API STAR WARS"
      ],
      "metadata": {
        "id": "iT7YY-bNpQDU"
      }
    },
    {
      "cell_type": "code",
      "source": [
        "# Definindo endpoit\n",
        "endpoint = '/people'\n",
        "# Definindo URL da API\n",
        "url = f\"https://swapi.dev/api{endpoint}\"\n",
        "# Fazendo a arequisição\n",
        "response = requests.get(url).json()\n",
        "# Iterando no dicionário retornado\n",
        "for pessoa in response['results']:\n",
        "  # Tratando dados\n",
        "    print('='*40)\n",
        "    print(f\"Nome: {pessoa['name']}\")\n",
        "    print(f\"Genero: {pessoa['gender']}\")\n",
        "    print(f\"Altura: {pessoa['height']} cm\")\n",
        "    print(f\"Peso: {pessoa['mass']} kg\")\n",
        "    print(\"Participação nos filmes: \")\n",
        "    for filme_url in pessoa['films']:\n",
        "        response_filme = requests.get(filme_url).json()\n",
        "        print(f\"- {response_filme['title']}\")\n",
        "\n",
        "    print(\"Veículos: \")\n",
        "    if pessoa['vehicles'] != []:\n",
        "      for veiculo_url in pessoa['vehicles']:\n",
        "        response_veiculo = requests.get(veiculo_url).json()\n",
        "        print(f\"- {response_veiculo['name']}\")\n"
      ],
      "metadata": {
        "colab": {
          "base_uri": "https://localhost:8080/"
        },
        "id": "T-5NbZx3pVoy",
        "outputId": "56574702-441b-44dd-874b-b1f9a14b537e"
      },
      "execution_count": 26,
      "outputs": [
        {
          "output_type": "stream",
          "name": "stdout",
          "text": [
            "========================================\n",
            "Nome: Luke Skywalker\n",
            "Genero: male\n",
            "Altura: 172 cm\n",
            "Peso: 77 kg\n",
            "Participação nos filmes: \n",
            "- A New Hope\n",
            "- The Empire Strikes Back\n",
            "- Return of the Jedi\n",
            "- Revenge of the Sith\n",
            "Veículos: \n",
            "- Snowspeeder\n",
            "- Imperial Speeder Bike\n",
            "========================================\n",
            "Nome: C-3PO\n",
            "Genero: n/a\n",
            "Altura: 167 cm\n",
            "Peso: 75 kg\n",
            "Participação nos filmes: \n",
            "- A New Hope\n",
            "- The Empire Strikes Back\n",
            "- Return of the Jedi\n",
            "- The Phantom Menace\n",
            "- Attack of the Clones\n",
            "- Revenge of the Sith\n",
            "Veículos: \n",
            "========================================\n",
            "Nome: R2-D2\n",
            "Genero: n/a\n",
            "Altura: 96 cm\n",
            "Peso: 32 kg\n",
            "Participação nos filmes: \n",
            "- A New Hope\n",
            "- The Empire Strikes Back\n",
            "- Return of the Jedi\n",
            "- The Phantom Menace\n",
            "- Attack of the Clones\n",
            "- Revenge of the Sith\n",
            "Veículos: \n",
            "========================================\n",
            "Nome: Darth Vader\n",
            "Genero: male\n",
            "Altura: 202 cm\n",
            "Peso: 136 kg\n",
            "Participação nos filmes: \n",
            "- A New Hope\n",
            "- The Empire Strikes Back\n",
            "- Return of the Jedi\n",
            "- Revenge of the Sith\n",
            "Veículos: \n",
            "========================================\n",
            "Nome: Leia Organa\n",
            "Genero: female\n",
            "Altura: 150 cm\n",
            "Peso: 49 kg\n",
            "Participação nos filmes: \n",
            "- A New Hope\n",
            "- The Empire Strikes Back\n",
            "- Return of the Jedi\n",
            "- Revenge of the Sith\n",
            "Veículos: \n",
            "- Imperial Speeder Bike\n",
            "========================================\n",
            "Nome: Owen Lars\n",
            "Genero: male\n",
            "Altura: 178 cm\n",
            "Peso: 120 kg\n",
            "Participação nos filmes: \n",
            "- A New Hope\n",
            "- Attack of the Clones\n",
            "- Revenge of the Sith\n",
            "Veículos: \n",
            "========================================\n",
            "Nome: Beru Whitesun lars\n",
            "Genero: female\n",
            "Altura: 165 cm\n",
            "Peso: 75 kg\n",
            "Participação nos filmes: \n",
            "- A New Hope\n",
            "- Attack of the Clones\n",
            "- Revenge of the Sith\n",
            "Veículos: \n",
            "========================================\n",
            "Nome: R5-D4\n",
            "Genero: n/a\n",
            "Altura: 97 cm\n",
            "Peso: 32 kg\n",
            "Participação nos filmes: \n",
            "- A New Hope\n",
            "Veículos: \n",
            "========================================\n",
            "Nome: Biggs Darklighter\n",
            "Genero: male\n",
            "Altura: 183 cm\n",
            "Peso: 84 kg\n",
            "Participação nos filmes: \n",
            "- A New Hope\n",
            "Veículos: \n",
            "========================================\n",
            "Nome: Obi-Wan Kenobi\n",
            "Genero: male\n",
            "Altura: 182 cm\n",
            "Peso: 77 kg\n",
            "Participação nos filmes: \n",
            "- A New Hope\n",
            "- The Empire Strikes Back\n",
            "- Return of the Jedi\n",
            "- The Phantom Menace\n",
            "- Attack of the Clones\n",
            "- Revenge of the Sith\n",
            "Veículos: \n",
            "- Tribubble bongo\n"
          ]
        }
      ]
    },
    {
      "cell_type": "markdown",
      "source": [
        "# API CLIMA"
      ],
      "metadata": {
        "id": "lfEhyTFGXQmu"
      }
    },
    {
      "source": [
        "# Definindo a chave da API\n",
        "api_key = \"da7d7856826a4e9daae192630241109\"\n",
        "\n",
        "cidade = \"Brasília\"\n",
        "# Definindo a URL da API\n",
        "url = f\"http://api.weatherapi.com/v1/current.json?key={api_key}&q={cidade}\"\n",
        "\n",
        "# Fazendo a requisição\n",
        "response = requests.get(url).json()\n",
        "\n",
        "# The next line is not required as the response is already a dictionary\n",
        "# data = response.json()\n",
        "\n",
        "print(f\"Data e hora local: {response['location']['localtime']}\")\n",
        "print(f\"País: {response['location']['country']}\")\n",
        "print(f\"Temperatura: {response['current']['temp_c']}°C\")\n",
        "print(f\"Condição: {response['current']['condition']['text']}\")\n",
        "print(f\"Velocidade do vento: {response['current']['wind_kph']} km/h\")\n",
        "print(f\"Humidade: {response['current']['humidity']}%\")"
      ],
      "cell_type": "code",
      "metadata": {
        "id": "9Tih9hCnZjgp",
        "outputId": "e92495a4-df49-4c29-b133-3b9cc5d74b08",
        "colab": {
          "base_uri": "https://localhost:8080/"
        }
      },
      "execution_count": 27,
      "outputs": [
        {
          "output_type": "stream",
          "name": "stdout",
          "text": [
            "Data e hora local: 2024-09-12 15:52\n",
            "País: Brasil\n",
            "Temperatura: 31.3°C\n",
            "Condição: Sunny\n",
            "Velocidade do vento: 3.6 km/h\n",
            "Humidade: 22%\n"
          ]
        }
      ]
    },
    {
      "cell_type": "markdown",
      "source": [
        "# API VIACEP"
      ],
      "metadata": {
        "id": "IusKHeXJc3dw"
      }
    },
    {
      "cell_type": "code",
      "source": [
        "# Definir a variável cep\n",
        "cep = \"72115700\"\n",
        "# Definindo a variável URL\n",
        "url = f\"https://viacep.com.br/ws/{cep}/json/\"\n",
        "# Fazendo a requisição\n",
        "response = requests.get(url).json()\n",
        "# Exibindo Informações do CEP\n",
        "print(f\"CEP: {response['cep']}\")\n",
        "print(f\"Logradouro: {response['logradouro']}\")\n",
        "print(f\"Complemento: {response['complemento']}\")\n",
        "print(f\"Bairro: {response['bairro']}\")\n",
        "print(f\"Cidade: {response['localidade']}\")\n",
        "print(f\"Estado: {response['uf']}\")\n",
        "print(f\"IBGE: {response['ibge']}\")\n",
        "print(f\"GIA: {response['gia']}\")\n",
        "print(f\"DDD: {response['ddd']}\")\n",
        "print(f\"SIAFI: {response['siafi']}\")\n"
      ],
      "metadata": {
        "id": "sbioM0f6d13l",
        "outputId": "0e4a2a27-f2f9-4400-ba20-d57a42540150",
        "colab": {
          "base_uri": "https://localhost:8080/"
        }
      },
      "execution_count": 28,
      "outputs": [
        {
          "output_type": "stream",
          "name": "stdout",
          "text": [
            "CEP: 72115-700\n",
            "Logradouro: Área Especial Setor C Norte\n",
            "Complemento: \n",
            "Bairro: Taguatinga Norte (Taguatinga)\n",
            "Cidade: Brasília\n",
            "Estado: DF\n",
            "IBGE: 5300108\n",
            "GIA: \n",
            "DDD: 61\n",
            "SIAFI: 9701\n"
          ]
        }
      ]
    }
  ]
}